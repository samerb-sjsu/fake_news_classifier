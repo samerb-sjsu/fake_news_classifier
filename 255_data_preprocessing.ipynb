{
 "cells": [
  {
   "cell_type": "markdown",
   "metadata": {
    "id": "pnxYbDLV6SVU"
   },
   "source": [
    "# Evaluate Trends in Fake News Circulation on Twitter in the run-up to the 2020 US Presidential Elections"
   ]
  },
  {
   "cell_type": "markdown",
   "metadata": {
    "id": "Q9w9tMYT1woW"
   },
   "source": [
    "# Team Members\n",
    "Abhishek Bais, Samer Baslan, Jimmy Liang, Rohan Kumar"
   ]
  },
  {
   "cell_type": "markdown",
   "metadata": {
    "id": "a9yu9rVUbiyn"
   },
   "source": [
    "# Import packages\n"
   ]
  },
  {
   "cell_type": "code",
   "execution_count": null,
   "metadata": {
    "colab": {
     "base_uri": "https://localhost:8080/"
    },
    "id": "rmgNddjm2WBM",
    "outputId": "6bad59d8-1dbb-4cf2-c9bf-885f8f29e235"
   },
   "outputs": [
    {
     "name": "stdout",
     "output_type": "stream",
     "text": [
      "[nltk_data] Downloading package wordnet to /root/nltk_data...\n",
      "[nltk_data]   Package wordnet is already up-to-date!\n",
      "[nltk_data] Downloading package stopwords to /root/nltk_data...\n",
      "[nltk_data]   Package stopwords is already up-to-date!\n",
      "[nltk_data] Downloading package punkt to /root/nltk_data...\n",
      "[nltk_data]   Package punkt is already up-to-date!\n"
     ]
    }
   ],
   "source": [
    "# Import Packages\n",
    "import numpy as np\n",
    "import pandas as pd\n",
    "import matplotlib.pyplot as plt\n",
    "import seaborn as sns\n",
    "\n",
    "import nltk\n",
    "nltk.download('wordnet')\n",
    "nltk.download('stopwords')\n",
    "nltk.download('punkt')\n",
    "\n",
    "from nltk.stem import WordNetLemmatizer\n",
    "from nltk.corpus import stopwords\n",
    "\n",
    "%matplotlib inline"
   ]
  },
  {
   "cell_type": "code",
   "execution_count": null,
   "metadata": {
    "colab": {
     "base_uri": "https://localhost:8080/"
    },
    "id": "Jyjpl-HMTUCM",
    "outputId": "6f5219a6-be83-4dd1-b9a0-26a098850b64"
   },
   "outputs": [
    {
     "name": "stdout",
     "output_type": "stream",
     "text": [
      "Mounted at /content/drive\n"
     ]
    }
   ],
   "source": [
    "# Mount Google Drive\n",
    "from google.colab import drive\n",
    "import pandas as pd\n",
    "drive.mount('/content/drive')"
   ]
  },
  {
   "cell_type": "markdown",
   "metadata": {
    "id": "F-jU19pj2n8r"
   },
   "source": [
    "# Pre-process real news"
   ]
  },
  {
   "cell_type": "code",
   "execution_count": null,
   "metadata": {
    "colab": {
     "base_uri": "https://localhost:8080/",
     "height": 194
    },
    "id": "TVMxvugg2uF_",
    "outputId": "f5e8504e-2cb1-484e-afd0-28efa08e9e46"
   },
   "outputs": [
    {
     "data": {
      "text/html": [
       "<div>\n",
       "<style scoped>\n",
       "    .dataframe tbody tr th:only-of-type {\n",
       "        vertical-align: middle;\n",
       "    }\n",
       "\n",
       "    .dataframe tbody tr th {\n",
       "        vertical-align: top;\n",
       "    }\n",
       "\n",
       "    .dataframe thead th {\n",
       "        text-align: right;\n",
       "    }\n",
       "</style>\n",
       "<table border=\"1\" class=\"dataframe\">\n",
       "  <thead>\n",
       "    <tr style=\"text-align: right;\">\n",
       "      <th></th>\n",
       "      <th>title</th>\n",
       "      <th>content</th>\n",
       "      <th>publication</th>\n",
       "      <th>type</th>\n",
       "    </tr>\n",
       "  </thead>\n",
       "  <tbody>\n",
       "    <tr>\n",
       "      <th>0</th>\n",
       "      <td>House Republicans Fret About Winning Their Hea...</td>\n",
       "      <td>WASHINGTON  —   Congressional Republicans have...</td>\n",
       "      <td>New York Times</td>\n",
       "      <td>real</td>\n",
       "    </tr>\n",
       "    <tr>\n",
       "      <th>1</th>\n",
       "      <td>First, a Mixtape. Then a Romance. - The New Yo...</td>\n",
       "      <td>Just how   is Hillary Kerr, the    founder of ...</td>\n",
       "      <td>New York Times</td>\n",
       "      <td>real</td>\n",
       "    </tr>\n",
       "    <tr>\n",
       "      <th>2</th>\n",
       "      <td>Calling on Angels While Enduring the Trials of...</td>\n",
       "      <td>Angels are everywhere in the Muñiz family’s ap...</td>\n",
       "      <td>New York Times</td>\n",
       "      <td>real</td>\n",
       "    </tr>\n",
       "    <tr>\n",
       "      <th>3</th>\n",
       "      <td>U.S. Plans to Step Up Military Campaign Agains...</td>\n",
       "      <td>ABU DHABI, United Arab Emirates  —   The Obama...</td>\n",
       "      <td>New York Times</td>\n",
       "      <td>real</td>\n",
       "    </tr>\n",
       "    <tr>\n",
       "      <th>4</th>\n",
       "      <td>272 Slaves Were Sold to Save Georgetown. What ...</td>\n",
       "      <td>WASHINGTON  —   The human cargo was loaded on ...</td>\n",
       "      <td>New York Times</td>\n",
       "      <td>real</td>\n",
       "    </tr>\n",
       "  </tbody>\n",
       "</table>\n",
       "</div>"
      ],
      "text/plain": [
       "                                               title  ...  type\n",
       "0  House Republicans Fret About Winning Their Hea...  ...  real\n",
       "1  First, a Mixtape. Then a Romance. - The New Yo...  ...  real\n",
       "2  Calling on Angels While Enduring the Trials of...  ...  real\n",
       "3  U.S. Plans to Step Up Military Campaign Agains...  ...  real\n",
       "4  272 Slaves Were Sold to Save Georgetown. What ...  ...  real\n",
       "\n",
       "[5 rows x 4 columns]"
      ]
     },
     "execution_count": 4,
     "metadata": {
      "tags": []
     },
     "output_type": "execute_result"
    }
   ],
   "source": [
    "# Read in the real news\n",
    "# Prune unwanted columns\n",
    "# Set type to real\n",
    "real_news = pd.read_csv('/content/drive/My Drive/255/datasets/real_news.csv', ).iloc[:, 2:]\n",
    "real_news = real_news[['title', 'content', 'publication']]\n",
    "real_news.columns = ['title','content','publication','type']\n",
    "real_news['type'] = 'real'\n",
    "real_news.head(5)"
   ]
  },
  {
   "cell_type": "markdown",
   "metadata": {
    "id": "MsiTb6-F326s"
   },
   "source": [
    "# Handle missing entry columns in real news"
   ]
  },
  {
   "cell_type": "code",
   "execution_count": null,
   "metadata": {
    "colab": {
     "base_uri": "https://localhost:8080/"
    },
    "id": "2iKpBBOY357q",
    "outputId": "14a6bb68-5303-456a-c09c-bcbd0dc0b0be"
   },
   "outputs": [
    {
     "data": {
      "text/plain": [
       "title          0\n",
       "content        0\n",
       "publication    0\n",
       "type           0\n",
       "dtype: int64"
      ]
     },
     "execution_count": 5,
     "metadata": {
      "tags": []
     },
     "output_type": "execute_result"
    }
   ],
   "source": [
    "# Inspect the dataset to find missing entries\n",
    "real_news.isnull().sum()"
   ]
  },
  {
   "cell_type": "markdown",
   "metadata": {
    "id": "jAxqqoSi4FcP"
   },
   "source": [
    "# Pre-process fake news"
   ]
  },
  {
   "cell_type": "code",
   "execution_count": null,
   "metadata": {
    "colab": {
     "base_uri": "https://localhost:8080/",
     "height": 194
    },
    "id": "h24J5H0f4QHD",
    "outputId": "36ea9d49-7823-46cd-f4a9-9e7546221564"
   },
   "outputs": [
    {
     "data": {
      "text/html": [
       "<div>\n",
       "<style scoped>\n",
       "    .dataframe tbody tr th:only-of-type {\n",
       "        vertical-align: middle;\n",
       "    }\n",
       "\n",
       "    .dataframe tbody tr th {\n",
       "        vertical-align: top;\n",
       "    }\n",
       "\n",
       "    .dataframe thead th {\n",
       "        text-align: right;\n",
       "    }\n",
       "</style>\n",
       "<table border=\"1\" class=\"dataframe\">\n",
       "  <thead>\n",
       "    <tr style=\"text-align: right;\">\n",
       "      <th></th>\n",
       "      <th>title</th>\n",
       "      <th>text</th>\n",
       "      <th>site_url</th>\n",
       "      <th>type</th>\n",
       "    </tr>\n",
       "  </thead>\n",
       "  <tbody>\n",
       "    <tr>\n",
       "      <th>0</th>\n",
       "      <td>Muslims BUSTED: They Stole Millions In Gov’t B...</td>\n",
       "      <td>Print They should pay all the back all the mon...</td>\n",
       "      <td>100percentfedup.com</td>\n",
       "      <td>fake</td>\n",
       "    </tr>\n",
       "    <tr>\n",
       "      <th>1</th>\n",
       "      <td>Re: Why Did Attorney General Loretta Lynch Ple...</td>\n",
       "      <td>Why Did Attorney General Loretta Lynch Plead T...</td>\n",
       "      <td>100percentfedup.com</td>\n",
       "      <td>fake</td>\n",
       "    </tr>\n",
       "    <tr>\n",
       "      <th>2</th>\n",
       "      <td>BREAKING: Weiner Cooperating With FBI On Hilla...</td>\n",
       "      <td>Red State : \\nFox News Sunday reported this mo...</td>\n",
       "      <td>100percentfedup.com</td>\n",
       "      <td>fake</td>\n",
       "    </tr>\n",
       "    <tr>\n",
       "      <th>3</th>\n",
       "      <td>PIN DROP SPEECH BY FATHER OF DAUGHTER Kidnappe...</td>\n",
       "      <td>Email Kayla Mueller was a prisoner and torture...</td>\n",
       "      <td>100percentfedup.com</td>\n",
       "      <td>fake</td>\n",
       "    </tr>\n",
       "    <tr>\n",
       "      <th>4</th>\n",
       "      <td>FANTASTIC! TRUMP'S 7 POINT PLAN To Reform Heal...</td>\n",
       "      <td>Email HEALTHCARE REFORM TO MAKE AMERICA GREAT ...</td>\n",
       "      <td>100percentfedup.com</td>\n",
       "      <td>fake</td>\n",
       "    </tr>\n",
       "  </tbody>\n",
       "</table>\n",
       "</div>"
      ],
      "text/plain": [
       "                                               title  ...  type\n",
       "0  Muslims BUSTED: They Stole Millions In Gov’t B...  ...  fake\n",
       "1  Re: Why Did Attorney General Loretta Lynch Ple...  ...  fake\n",
       "2  BREAKING: Weiner Cooperating With FBI On Hilla...  ...  fake\n",
       "3  PIN DROP SPEECH BY FATHER OF DAUGHTER Kidnappe...  ...  fake\n",
       "4  FANTASTIC! TRUMP'S 7 POINT PLAN To Reform Heal...  ...  fake\n",
       "\n",
       "[5 rows x 4 columns]"
      ]
     },
     "execution_count": 21,
     "metadata": {
      "tags": []
     },
     "output_type": "execute_result"
    }
   ],
   "source": [
    "# Read in the fake news\n",
    "# Prune unwanted columns\n",
    "# Treat hate, satire, conspiracy, fake news in fake news dataset as fake news\n",
    "fake_news = pd.read_csv('/content/drive/My Drive/255/datasets/fake_news.csv', ).iloc[:, 2:]\n",
    "fake_news = fake_news[['title', 'text','site_url']]\n",
    "fake_news['type'] = 'fake'\n",
    "fake_news.head(5)"
   ]
  },
  {
   "cell_type": "markdown",
   "metadata": {
    "id": "WbAyb1JC5FfG"
   },
   "source": [
    "# Handle missing entry columns in fake news"
   ]
  },
  {
   "cell_type": "code",
   "execution_count": null,
   "metadata": {
    "colab": {
     "base_uri": "https://localhost:8080/"
    },
    "id": "0iMQntS55Za-",
    "outputId": "b6665107-5750-43c8-8bbc-92ddd89bc2ee"
   },
   "outputs": [
    {
     "data": {
      "text/plain": [
       "title       680\n",
       "text         46\n",
       "site_url      0\n",
       "type          0\n",
       "dtype: int64"
      ]
     },
     "execution_count": 22,
     "metadata": {
      "tags": []
     },
     "output_type": "execute_result"
    }
   ],
   "source": [
    "# Inspect the dataset to find missing entries\n",
    "fake_news.isnull().sum()"
   ]
  },
  {
   "cell_type": "code",
   "execution_count": null,
   "metadata": {
    "colab": {
     "base_uri": "https://localhost:8080/"
    },
    "id": "gEt5xJKW5mqM",
    "outputId": "d04e4979-a37c-44e0-ea47-88a5d059cb4c"
   },
   "outputs": [
    {
     "data": {
      "text/plain": [
       "title          0\n",
       "content        0\n",
       "publication    0\n",
       "type           0\n",
       "dtype: int64"
      ]
     },
     "execution_count": 23,
     "metadata": {
      "tags": []
     },
     "output_type": "execute_result"
    }
   ],
   "source": [
    "# Drop entries with null text\n",
    "# Drop unwanted columns\n",
    "fake_news.dropna(subset=['text'], axis=0, inplace=True)\n",
    "fake_news['site_url'] = fake_news['site_url'].apply(lambda x:x.split('.')[0])\n",
    "fake_news['title'].fillna(\"\", inplace=True)\n",
    "fake_news.dropna(inplace=True)\n",
    "fake_news.reset_index(drop=True, inplace=True)\n",
    "fake_news.columns = ['title','content','publication','type']\n",
    "fake_news.isnull().sum()"
   ]
  },
  {
   "cell_type": "code",
   "execution_count": null,
   "metadata": {
    "colab": {
     "base_uri": "https://localhost:8080/"
    },
    "id": "pgDONbQv6dsc",
    "outputId": "30585570-5b3d-499f-8fc9-06188ea4bb0f"
   },
   "outputs": [
    {
     "data": {
      "text/plain": [
       "(15712, 4)"
      ]
     },
     "execution_count": 24,
     "metadata": {
      "tags": []
     },
     "output_type": "execute_result"
    }
   ],
   "source": [
    "# Report real news entries post drop columns\n",
    "real_news.shape"
   ]
  },
  {
   "cell_type": "code",
   "execution_count": null,
   "metadata": {
    "colab": {
     "base_uri": "https://localhost:8080/"
    },
    "id": "zvvzVbcj6xIz",
    "outputId": "57825b1a-23e9-46b9-a539-c4e328d2b747"
   },
   "outputs": [
    {
     "data": {
      "text/plain": [
       "(12953, 4)"
      ]
     },
     "execution_count": 25,
     "metadata": {
      "tags": []
     },
     "output_type": "execute_result"
    }
   ],
   "source": [
    "# Report fake news entries post drop columns\n",
    "fake_news.shape"
   ]
  },
  {
   "cell_type": "markdown",
   "metadata": {
    "id": "D_fuwk9-66-T"
   },
   "source": [
    "# Merge real, fake news in prep for data modelling"
   ]
  },
  {
   "cell_type": "code",
   "execution_count": null,
   "metadata": {
    "colab": {
     "base_uri": "https://localhost:8080/",
     "height": 194
    },
    "id": "ko3OPCpm7Dsq",
    "outputId": "eb28709e-2754-4f61-cd78-85ffe6eb69b8"
   },
   "outputs": [
    {
     "data": {
      "text/html": [
       "<div>\n",
       "<style scoped>\n",
       "    .dataframe tbody tr th:only-of-type {\n",
       "        vertical-align: middle;\n",
       "    }\n",
       "\n",
       "    .dataframe tbody tr th {\n",
       "        vertical-align: top;\n",
       "    }\n",
       "\n",
       "    .dataframe thead th {\n",
       "        text-align: right;\n",
       "    }\n",
       "</style>\n",
       "<table border=\"1\" class=\"dataframe\">\n",
       "  <thead>\n",
       "    <tr style=\"text-align: right;\">\n",
       "      <th></th>\n",
       "      <th>title</th>\n",
       "      <th>content</th>\n",
       "      <th>publication</th>\n",
       "      <th>type</th>\n",
       "    </tr>\n",
       "  </thead>\n",
       "  <tbody>\n",
       "    <tr>\n",
       "      <th>0</th>\n",
       "      <td>Muslims BUSTED: They Stole Millions In Gov’t B...</td>\n",
       "      <td>Print They should pay all the back all the mon...</td>\n",
       "      <td>100percentfedup</td>\n",
       "      <td>fake</td>\n",
       "    </tr>\n",
       "    <tr>\n",
       "      <th>1</th>\n",
       "      <td>Re: Why Did Attorney General Loretta Lynch Ple...</td>\n",
       "      <td>Why Did Attorney General Loretta Lynch Plead T...</td>\n",
       "      <td>100percentfedup</td>\n",
       "      <td>fake</td>\n",
       "    </tr>\n",
       "    <tr>\n",
       "      <th>2</th>\n",
       "      <td>BREAKING: Weiner Cooperating With FBI On Hilla...</td>\n",
       "      <td>Red State : \\nFox News Sunday reported this mo...</td>\n",
       "      <td>100percentfedup</td>\n",
       "      <td>fake</td>\n",
       "    </tr>\n",
       "    <tr>\n",
       "      <th>3</th>\n",
       "      <td>PIN DROP SPEECH BY FATHER OF DAUGHTER Kidnappe...</td>\n",
       "      <td>Email Kayla Mueller was a prisoner and torture...</td>\n",
       "      <td>100percentfedup</td>\n",
       "      <td>fake</td>\n",
       "    </tr>\n",
       "    <tr>\n",
       "      <th>4</th>\n",
       "      <td>FANTASTIC! TRUMP'S 7 POINT PLAN To Reform Heal...</td>\n",
       "      <td>Email HEALTHCARE REFORM TO MAKE AMERICA GREAT ...</td>\n",
       "      <td>100percentfedup</td>\n",
       "      <td>fake</td>\n",
       "    </tr>\n",
       "  </tbody>\n",
       "</table>\n",
       "</div>"
      ],
      "text/plain": [
       "                                               title  ...  type\n",
       "0  Muslims BUSTED: They Stole Millions In Gov’t B...  ...  fake\n",
       "1  Re: Why Did Attorney General Loretta Lynch Ple...  ...  fake\n",
       "2  BREAKING: Weiner Cooperating With FBI On Hilla...  ...  fake\n",
       "3  PIN DROP SPEECH BY FATHER OF DAUGHTER Kidnappe...  ...  fake\n",
       "4  FANTASTIC! TRUMP'S 7 POINT PLAN To Reform Heal...  ...  fake\n",
       "\n",
       "[5 rows x 4 columns]"
      ]
     },
     "execution_count": 63,
     "metadata": {
      "tags": []
     },
     "output_type": "execute_result"
    }
   ],
   "source": [
    "# Prepare clean dataset of real, fake news\n",
    "all_news = pd.concat([fake_news, real_news])\n",
    "all_news.reset_index(drop=True, inplace=True)\n",
    "all_news.head(5)"
   ]
  },
  {
   "cell_type": "code",
   "execution_count": null,
   "metadata": {
    "colab": {
     "base_uri": "https://localhost:8080/"
    },
    "id": "FD5cABcp9oVZ",
    "outputId": "3c7051a9-b1bd-425a-c6df-c3759f6a5b26"
   },
   "outputs": [
    {
     "data": {
      "text/plain": [
       "(28665, 4)"
      ]
     },
     "execution_count": 64,
     "metadata": {
      "tags": []
     },
     "output_type": "execute_result"
    }
   ],
   "source": [
    "# Report real, fake news entries post pre-processing\n",
    "all_news.shape"
   ]
  },
  {
   "cell_type": "markdown",
   "metadata": {
    "id": "z7OWhCZZ-Czt"
   },
   "source": [
    "# Visualize real vs fake"
   ]
  },
  {
   "cell_type": "code",
   "execution_count": null,
   "metadata": {
    "colab": {
     "base_uri": "https://localhost:8080/",
     "height": 1000
    },
    "id": "4h7q21cEHdSs",
    "outputId": "7b7c4194-5375-4e92-cbe5-98b2d2344d0f"
   },
   "outputs": [
    {
     "data": {
      "text/html": [
       "<div>\n",
       "<style scoped>\n",
       "    .dataframe tbody tr th:only-of-type {\n",
       "        vertical-align: middle;\n",
       "    }\n",
       "\n",
       "    .dataframe tbody tr th {\n",
       "        vertical-align: top;\n",
       "    }\n",
       "\n",
       "    .dataframe thead th {\n",
       "        text-align: right;\n",
       "    }\n",
       "</style>\n",
       "<table border=\"1\" class=\"dataframe\">\n",
       "  <thead>\n",
       "    <tr style=\"text-align: right;\">\n",
       "      <th></th>\n",
       "      <th>title</th>\n",
       "      <th>content</th>\n",
       "      <th>publication</th>\n",
       "      <th>type</th>\n",
       "      <th>title_length</th>\n",
       "      <th>content_length</th>\n",
       "      <th>title_ucase_length</th>\n",
       "      <th>content_ucase_length</th>\n",
       "      <th>title_punctuation_length</th>\n",
       "      <th>content_punctuation_length</th>\n",
       "    </tr>\n",
       "  </thead>\n",
       "  <tbody>\n",
       "    <tr>\n",
       "      <th>0</th>\n",
       "      <td>Muslims BUSTED: They Stole Millions In Gov’t B...</td>\n",
       "      <td>Muslims BUSTED: They Stole Millions In Gov’t B...</td>\n",
       "      <td>100percentfedup</td>\n",
       "      <td>fake</td>\n",
       "      <td>53</td>\n",
       "      <td>505</td>\n",
       "      <td>13</td>\n",
       "      <td>12</td>\n",
       "      <td>51</td>\n",
       "      <td>494</td>\n",
       "    </tr>\n",
       "    <tr>\n",
       "      <th>1</th>\n",
       "      <td>Re: Why Did Attorney General Loretta Lynch Ple...</td>\n",
       "      <td>Re: Why Did Attorney General Loretta Lynch Ple...</td>\n",
       "      <td>100percentfedup</td>\n",
       "      <td>fake</td>\n",
       "      <td>59</td>\n",
       "      <td>1789</td>\n",
       "      <td>10</td>\n",
       "      <td>68</td>\n",
       "      <td>57</td>\n",
       "      <td>1736</td>\n",
       "    </tr>\n",
       "    <tr>\n",
       "      <th>2</th>\n",
       "      <td>BREAKING: Weiner Cooperating With FBI On Hilla...</td>\n",
       "      <td>BREAKING: Weiner Cooperating With FBI On Hilla...</td>\n",
       "      <td>100percentfedup</td>\n",
       "      <td>fake</td>\n",
       "      <td>68</td>\n",
       "      <td>1363</td>\n",
       "      <td>18</td>\n",
       "      <td>37</td>\n",
       "      <td>67</td>\n",
       "      <td>1323</td>\n",
       "    </tr>\n",
       "    <tr>\n",
       "      <th>3</th>\n",
       "      <td>PIN DROP SPEECH BY FATHER OF DAUGHTER Kidnappe...</td>\n",
       "      <td>PIN DROP SPEECH BY FATHER OF DAUGHTER Kidnappe...</td>\n",
       "      <td>100percentfedup</td>\n",
       "      <td>fake</td>\n",
       "      <td>125</td>\n",
       "      <td>271</td>\n",
       "      <td>44</td>\n",
       "      <td>14</td>\n",
       "      <td>118</td>\n",
       "      <td>265</td>\n",
       "    </tr>\n",
       "    <tr>\n",
       "      <th>4</th>\n",
       "      <td>FANTASTIC! TRUMP'S 7 POINT PLAN To Reform Heal...</td>\n",
       "      <td>FANTASTIC! TRUMP'S 7 POINT PLAN To Reform Heal...</td>\n",
       "      <td>100percentfedup</td>\n",
       "      <td>fake</td>\n",
       "      <td>99</td>\n",
       "      <td>2095</td>\n",
       "      <td>32</td>\n",
       "      <td>91</td>\n",
       "      <td>94</td>\n",
       "      <td>2058</td>\n",
       "    </tr>\n",
       "    <tr>\n",
       "      <th>...</th>\n",
       "      <td>...</td>\n",
       "      <td>...</td>\n",
       "      <td>...</td>\n",
       "      <td>...</td>\n",
       "      <td>...</td>\n",
       "      <td>...</td>\n",
       "      <td>...</td>\n",
       "      <td>...</td>\n",
       "      <td>...</td>\n",
       "      <td>...</td>\n",
       "    </tr>\n",
       "    <tr>\n",
       "      <th>28660</th>\n",
       "      <td>An eavesdropping Uber driver saved his 16-year...</td>\n",
       "      <td>An eavesdropping Uber driver saved his 16-year...</td>\n",
       "      <td>Washington Post</td>\n",
       "      <td>real</td>\n",
       "      <td>87</td>\n",
       "      <td>4563</td>\n",
       "      <td>2</td>\n",
       "      <td>148</td>\n",
       "      <td>84</td>\n",
       "      <td>4383</td>\n",
       "    </tr>\n",
       "    <tr>\n",
       "      <th>28661</th>\n",
       "      <td>Plane carrying six people returning from a Cav...</td>\n",
       "      <td>Plane carrying six people returning from a Cav...</td>\n",
       "      <td>Washington Post</td>\n",
       "      <td>real</td>\n",
       "      <td>83</td>\n",
       "      <td>3514</td>\n",
       "      <td>4</td>\n",
       "      <td>171</td>\n",
       "      <td>83</td>\n",
       "      <td>3372</td>\n",
       "    </tr>\n",
       "    <tr>\n",
       "      <th>28662</th>\n",
       "      <td>After helping a fraction of homeowners expecte...</td>\n",
       "      <td>After helping a fraction of homeowners expecte...</td>\n",
       "      <td>Washington Post</td>\n",
       "      <td>real</td>\n",
       "      <td>105</td>\n",
       "      <td>6911</td>\n",
       "      <td>2</td>\n",
       "      <td>179</td>\n",
       "      <td>103</td>\n",
       "      <td>6744</td>\n",
       "    </tr>\n",
       "    <tr>\n",
       "      <th>28663</th>\n",
       "      <td>Yes, this is real: Michigan just banned bannin...</td>\n",
       "      <td>Yes, this is real: Michigan just banned bannin...</td>\n",
       "      <td>Washington Post</td>\n",
       "      <td>real</td>\n",
       "      <td>60</td>\n",
       "      <td>4133</td>\n",
       "      <td>2</td>\n",
       "      <td>85</td>\n",
       "      <td>58</td>\n",
       "      <td>4035</td>\n",
       "    </tr>\n",
       "    <tr>\n",
       "      <th>28664</th>\n",
       "      <td>What happened in Washington state after voters...</td>\n",
       "      <td>What happened in Washington state after voters...</td>\n",
       "      <td>Washington Post</td>\n",
       "      <td>real</td>\n",
       "      <td>79</td>\n",
       "      <td>4878</td>\n",
       "      <td>2</td>\n",
       "      <td>101</td>\n",
       "      <td>79</td>\n",
       "      <td>4745</td>\n",
       "    </tr>\n",
       "  </tbody>\n",
       "</table>\n",
       "<p>28665 rows × 10 columns</p>\n",
       "</div>"
      ],
      "text/plain": [
       "                                                   title  ... content_punctuation_length\n",
       "0      Muslims BUSTED: They Stole Millions In Gov’t B...  ...                        494\n",
       "1      Re: Why Did Attorney General Loretta Lynch Ple...  ...                       1736\n",
       "2      BREAKING: Weiner Cooperating With FBI On Hilla...  ...                       1323\n",
       "3      PIN DROP SPEECH BY FATHER OF DAUGHTER Kidnappe...  ...                        265\n",
       "4      FANTASTIC! TRUMP'S 7 POINT PLAN To Reform Heal...  ...                       2058\n",
       "...                                                  ...  ...                        ...\n",
       "28660  An eavesdropping Uber driver saved his 16-year...  ...                       4383\n",
       "28661  Plane carrying six people returning from a Cav...  ...                       3372\n",
       "28662  After helping a fraction of homeowners expecte...  ...                       6744\n",
       "28663  Yes, this is real: Michigan just banned bannin...  ...                       4035\n",
       "28664  What happened in Washington state after voters...  ...                       4745\n",
       "\n",
       "[28665 rows x 10 columns]"
      ]
     },
     "execution_count": 65,
     "metadata": {
      "tags": []
     },
     "output_type": "execute_result"
    }
   ],
   "source": [
    "all_news['title_length'] = all_news['title'].apply(len)\n",
    "all_news['content_length'] = all_news['content'].apply(len)\n",
    "all_news['title_ucase_length'] = all_news['title'].apply(lambda x:len(re.findall('([A-Z])', x)))\n",
    "all_news['content_ucase_length'] = all_news['content'].apply(lambda x:len(re.findall('([A-Z])', x)))\n",
    "all_news['title_punctuation_length'] = all_news['title'].apply(lambda x:len(re.sub(r'[^\\w\\s]','',x)))\n",
    "all_news['content_punctuation_length'] = all_news['content'].apply(lambda x:len(re.sub(r'[^\\w\\s]','',x)))\n",
    "all_news['content'] = all_news['title']+', '+all_news['content']\n",
    "all_news"
   ]
  },
  {
   "cell_type": "code",
   "execution_count": null,
   "metadata": {
    "colab": {
     "base_uri": "https://localhost:8080/",
     "height": 401
    },
    "id": "9bhyCD4KH5PM",
    "outputId": "bb5d9160-364a-4f33-efe8-f835c11635d0"
   },
   "outputs": [
    {
     "data": {
      "text/plain": [
       "<seaborn.axisgrid.FacetGrid at 0x7f27dc5bfba8>"
      ]
     },
     "execution_count": 52,
     "metadata": {
      "tags": []
     },
     "output_type": "execute_result"
    },
    {
     "data": {
      "image/png": "[encoded data removed]",
      "text/plain": [
       "<Figure size 360x360 with 1 Axes>"
      ]
     },
     "metadata": {
      "needs_background": "light",
      "tags": []
     },
     "output_type": "display_data"
    }
   ],
   "source": [
    "# Real vs fake news - title length\n",
    "sns.catplot(x=\"type\", y=\"title_length\", data=all_news)"
   ]
  },
  {
   "cell_type": "code",
   "execution_count": null,
   "metadata": {
    "colab": {
     "base_uri": "https://localhost:8080/",
     "height": 401
    },
    "id": "1k3zGC8hH6R0",
    "outputId": "bf571d6f-bdbd-4e5e-deac-529bdcab6eba"
   },
   "outputs": [
    {
     "data": {
      "text/plain": [
       "<seaborn.axisgrid.FacetGrid at 0x7f27dc5f5470>"
      ]
     },
     "execution_count": 54,
     "metadata": {
      "tags": []
     },
     "output_type": "execute_result"
    },
    {
     "data": {
      "image/png": "[encoded data removed]",
      "text/plain": [
       "<Figure size 360x360 with 1 Axes>"
      ]
     },
     "metadata": {
      "needs_background": "light",
      "tags": []
     },
     "output_type": "display_data"
    }
   ],
   "source": [
    "# Real vs fake news - content length\n",
    "sns.catplot(x=\"type\", y=\"content_length\", data=all_news)"
   ]
  },
  {
   "cell_type": "code",
   "execution_count": null,
   "metadata": {
    "colab": {
     "base_uri": "https://localhost:8080/",
     "height": 401
    },
    "id": "dSRSPftIIGXw",
    "outputId": "9cdc38c0-c342-496d-e298-9164984c4d33"
   },
   "outputs": [
    {
     "data": {
      "text/plain": [
       "<seaborn.axisgrid.FacetGrid at 0x7f27cfb3b710>"
      ]
     },
     "execution_count": 55,
     "metadata": {
      "tags": []
     },
     "output_type": "execute_result"
    },
    {
     "data": {
      "image/png": "[encoded data removed]",
      "text/plain": [
       "<Figure size 360x360 with 1 Axes>"
      ]
     },
     "metadata": {
      "needs_background": "light",
      "tags": []
     },
     "output_type": "display_data"
    }
   ],
   "source": [
    "# Real vs fake news - title uppercase length\n",
    "sns.catplot(x=\"type\", y=\"title_ucase_length\", data=all_news)"
   ]
  },
  {
   "cell_type": "code",
   "execution_count": null,
   "metadata": {
    "colab": {
     "base_uri": "https://localhost:8080/",
     "height": 401
    },
    "id": "_5VcoNJdIOXY",
    "outputId": "c648b2e7-b764-4ec6-8f1b-1eedef969789"
   },
   "outputs": [
    {
     "data": {
      "text/plain": [
       "<seaborn.axisgrid.FacetGrid at 0x7f27d344c208>"
      ]
     },
     "execution_count": 56,
     "metadata": {
      "tags": []
     },
     "output_type": "execute_result"
    },
    {
     "data": {
      "image/png": "[encoded data removed]",
      "text/plain": [
       "<Figure size 360x360 with 1 Axes>"
      ]
     },
     "metadata": {
      "needs_background": "light",
      "tags": []
     },
     "output_type": "display_data"
    }
   ],
   "source": [
    "# Real vs fake news - content uppercase length\n",
    "sns.catplot(x=\"type\", y=\"content_ucase_length\", data=all_news)"
   ]
  },
  {
   "cell_type": "code",
   "execution_count": null,
   "metadata": {
    "colab": {
     "base_uri": "https://localhost:8080/",
     "height": 401
    },
    "id": "yewxERlQIcvc",
    "outputId": "6571de5e-1762-4e6c-d721-5b9e787079ea"
   },
   "outputs": [
    {
     "data": {
      "text/plain": [
       "<seaborn.axisgrid.FacetGrid at 0x7f27cfdd0128>"
      ]
     },
     "execution_count": 57,
     "metadata": {
      "tags": []
     },
     "output_type": "execute_result"
    },
    {
     "data": {
      "image/png": "[encoded data removed]",
      "text/plain": [
       "<Figure size 360x360 with 1 Axes>"
      ]
     },
     "metadata": {
      "needs_background": "light",
      "tags": []
     },
     "output_type": "display_data"
    }
   ],
   "source": [
    "# Real vs fake news - title punctuation length\n",
    "sns.catplot(x=\"type\", y=\"title_punctuation_length\", data=all_news)"
   ]
  },
  {
   "cell_type": "code",
   "execution_count": null,
   "metadata": {
    "colab": {
     "base_uri": "https://localhost:8080/",
     "height": 401
    },
    "id": "b2x3eBifIgmU",
    "outputId": "e042f7ab-cfc6-4b0a-9329-faeb1225e4ef"
   },
   "outputs": [
    {
     "data": {
      "text/plain": [
       "<seaborn.axisgrid.FacetGrid at 0x7f27d3509a90>"
      ]
     },
     "execution_count": 58,
     "metadata": {
      "tags": []
     },
     "output_type": "execute_result"
    },
    {
     "data": {
      "image/png": "[encoded data removed]",
      "text/plain": [
       "<Figure size 360x360 with 1 Axes>"
      ]
     },
     "metadata": {
      "needs_background": "light",
      "tags": []
     },
     "output_type": "display_data"
    }
   ],
   "source": [
    "# Real vs fake news - content punctuation length\n",
    "sns.catplot(x=\"type\", y=\"content_punctuation_length\", data=all_news)"
   ]
  },
  {
   "cell_type": "markdown",
   "metadata": {
    "id": "Hg31dA-KJRGU"
   },
   "source": []
  },
  {
   "cell_type": "markdown",
   "metadata": {
    "id": "lykyedc2QuaG"
   },
   "source": [
    "# Real, fake news content pre-processing"
   ]
  },
  {
   "cell_type": "code",
   "execution_count": null,
   "metadata": {
    "id": "B6tF6aRSQ9NX"
   },
   "outputs": [],
   "source": [
    "# Clean and lemmatize content\n",
    "def clean_and_lemmatize(text):\n",
    "  # 1. remove special characters and numbers\n",
    "  # 2. lowercase text\n",
    "  # 3. lemmatize and remove stop words\n",
    "  # 4. skip 4 letter words like that, they\n",
    "  # 5. concatenate the cleaned text\n",
    "  lemmatizer = WordNetLemmatizer()\n",
    "  # 1. remove special characters and numbers\n",
    "  clean_and_lemma_text = re.sub('[^a-zA-Z]', ' ', text)\n",
    "\n",
    "  # 2. lowercase text\n",
    "  clean_and_lemma_text = clean_and_lemma_text.lower()\n",
    "    \n",
    "  # 3. lemmatize good size words, remove stop words, recreate content\n",
    "  stop_words = set(stopwords.words('english'))\n",
    "  word_list = clean_and_lemma_text.split()\n",
    "  clean_and_lemma_text = ' '.join([lemmatizer.lemmatize(w) for w in word_list if not w in stop_words and len(w)>4])   \n",
    "\n",
    "  return clean_and_lemma_text\n",
    "\n",
    "  all_news['content'] = all_news['content'].apply(clean_and_lemmatize)"
   ]
  },
  {
   "cell_type": "markdown",
   "metadata": {
    "id": "c3Es_fjqRw-j"
   },
   "source": [
    "# Inspect cleaned, pre-processed all news"
   ]
  },
  {
   "cell_type": "code",
   "execution_count": null,
   "metadata": {
    "colab": {
     "base_uri": "https://localhost:8080/",
     "height": 1000
    },
    "id": "J9Vdts4uSWx2",
    "outputId": "3987d9f2-ff3f-4b32-c101-303ae5de603d"
   },
   "outputs": [
    {
     "data": {
      "text/html": [
       "<div>\n",
       "<style scoped>\n",
       "    .dataframe tbody tr th:only-of-type {\n",
       "        vertical-align: middle;\n",
       "    }\n",
       "\n",
       "    .dataframe tbody tr th {\n",
       "        vertical-align: top;\n",
       "    }\n",
       "\n",
       "    .dataframe thead th {\n",
       "        text-align: right;\n",
       "    }\n",
       "</style>\n",
       "<table border=\"1\" class=\"dataframe\">\n",
       "  <thead>\n",
       "    <tr style=\"text-align: right;\">\n",
       "      <th></th>\n",
       "      <th>title</th>\n",
       "      <th>content</th>\n",
       "      <th>publication</th>\n",
       "      <th>type</th>\n",
       "      <th>title_length</th>\n",
       "      <th>content_length</th>\n",
       "      <th>title_ucase_length</th>\n",
       "      <th>content_ucase_length</th>\n",
       "      <th>title_punctuation_length</th>\n",
       "      <th>content_punctuation_length</th>\n",
       "    </tr>\n",
       "  </thead>\n",
       "  <tbody>\n",
       "    <tr>\n",
       "      <th>0</th>\n",
       "      <td>Muslims BUSTED: They Stole Millions In Gov’t B...</td>\n",
       "      <td>Muslims BUSTED: They Stole Millions In Gov’t B...</td>\n",
       "      <td>100percentfedup</td>\n",
       "      <td>fake</td>\n",
       "      <td>53</td>\n",
       "      <td>505</td>\n",
       "      <td>13</td>\n",
       "      <td>12</td>\n",
       "      <td>51</td>\n",
       "      <td>494</td>\n",
       "    </tr>\n",
       "    <tr>\n",
       "      <th>1</th>\n",
       "      <td>Re: Why Did Attorney General Loretta Lynch Ple...</td>\n",
       "      <td>Re: Why Did Attorney General Loretta Lynch Ple...</td>\n",
       "      <td>100percentfedup</td>\n",
       "      <td>fake</td>\n",
       "      <td>59</td>\n",
       "      <td>1789</td>\n",
       "      <td>10</td>\n",
       "      <td>68</td>\n",
       "      <td>57</td>\n",
       "      <td>1736</td>\n",
       "    </tr>\n",
       "    <tr>\n",
       "      <th>2</th>\n",
       "      <td>BREAKING: Weiner Cooperating With FBI On Hilla...</td>\n",
       "      <td>BREAKING: Weiner Cooperating With FBI On Hilla...</td>\n",
       "      <td>100percentfedup</td>\n",
       "      <td>fake</td>\n",
       "      <td>68</td>\n",
       "      <td>1363</td>\n",
       "      <td>18</td>\n",
       "      <td>37</td>\n",
       "      <td>67</td>\n",
       "      <td>1323</td>\n",
       "    </tr>\n",
       "    <tr>\n",
       "      <th>3</th>\n",
       "      <td>PIN DROP SPEECH BY FATHER OF DAUGHTER Kidnappe...</td>\n",
       "      <td>PIN DROP SPEECH BY FATHER OF DAUGHTER Kidnappe...</td>\n",
       "      <td>100percentfedup</td>\n",
       "      <td>fake</td>\n",
       "      <td>125</td>\n",
       "      <td>271</td>\n",
       "      <td>44</td>\n",
       "      <td>14</td>\n",
       "      <td>118</td>\n",
       "      <td>265</td>\n",
       "    </tr>\n",
       "    <tr>\n",
       "      <th>4</th>\n",
       "      <td>FANTASTIC! TRUMP'S 7 POINT PLAN To Reform Heal...</td>\n",
       "      <td>FANTASTIC! TRUMP'S 7 POINT PLAN To Reform Heal...</td>\n",
       "      <td>100percentfedup</td>\n",
       "      <td>fake</td>\n",
       "      <td>99</td>\n",
       "      <td>2095</td>\n",
       "      <td>32</td>\n",
       "      <td>91</td>\n",
       "      <td>94</td>\n",
       "      <td>2058</td>\n",
       "    </tr>\n",
       "    <tr>\n",
       "      <th>...</th>\n",
       "      <td>...</td>\n",
       "      <td>...</td>\n",
       "      <td>...</td>\n",
       "      <td>...</td>\n",
       "      <td>...</td>\n",
       "      <td>...</td>\n",
       "      <td>...</td>\n",
       "      <td>...</td>\n",
       "      <td>...</td>\n",
       "      <td>...</td>\n",
       "    </tr>\n",
       "    <tr>\n",
       "      <th>28660</th>\n",
       "      <td>An eavesdropping Uber driver saved his 16-year...</td>\n",
       "      <td>An eavesdropping Uber driver saved his 16-year...</td>\n",
       "      <td>Washington Post</td>\n",
       "      <td>real</td>\n",
       "      <td>87</td>\n",
       "      <td>4563</td>\n",
       "      <td>2</td>\n",
       "      <td>148</td>\n",
       "      <td>84</td>\n",
       "      <td>4383</td>\n",
       "    </tr>\n",
       "    <tr>\n",
       "      <th>28661</th>\n",
       "      <td>Plane carrying six people returning from a Cav...</td>\n",
       "      <td>Plane carrying six people returning from a Cav...</td>\n",
       "      <td>Washington Post</td>\n",
       "      <td>real</td>\n",
       "      <td>83</td>\n",
       "      <td>3514</td>\n",
       "      <td>4</td>\n",
       "      <td>171</td>\n",
       "      <td>83</td>\n",
       "      <td>3372</td>\n",
       "    </tr>\n",
       "    <tr>\n",
       "      <th>28662</th>\n",
       "      <td>After helping a fraction of homeowners expecte...</td>\n",
       "      <td>After helping a fraction of homeowners expecte...</td>\n",
       "      <td>Washington Post</td>\n",
       "      <td>real</td>\n",
       "      <td>105</td>\n",
       "      <td>6911</td>\n",
       "      <td>2</td>\n",
       "      <td>179</td>\n",
       "      <td>103</td>\n",
       "      <td>6744</td>\n",
       "    </tr>\n",
       "    <tr>\n",
       "      <th>28663</th>\n",
       "      <td>Yes, this is real: Michigan just banned bannin...</td>\n",
       "      <td>Yes, this is real: Michigan just banned bannin...</td>\n",
       "      <td>Washington Post</td>\n",
       "      <td>real</td>\n",
       "      <td>60</td>\n",
       "      <td>4133</td>\n",
       "      <td>2</td>\n",
       "      <td>85</td>\n",
       "      <td>58</td>\n",
       "      <td>4035</td>\n",
       "    </tr>\n",
       "    <tr>\n",
       "      <th>28664</th>\n",
       "      <td>What happened in Washington state after voters...</td>\n",
       "      <td>What happened in Washington state after voters...</td>\n",
       "      <td>Washington Post</td>\n",
       "      <td>real</td>\n",
       "      <td>79</td>\n",
       "      <td>4878</td>\n",
       "      <td>2</td>\n",
       "      <td>101</td>\n",
       "      <td>79</td>\n",
       "      <td>4745</td>\n",
       "    </tr>\n",
       "  </tbody>\n",
       "</table>\n",
       "<p>28665 rows × 10 columns</p>\n",
       "</div>"
      ],
      "text/plain": [
       "                                                   title  ... content_punctuation_length\n",
       "0      Muslims BUSTED: They Stole Millions In Gov’t B...  ...                        494\n",
       "1      Re: Why Did Attorney General Loretta Lynch Ple...  ...                       1736\n",
       "2      BREAKING: Weiner Cooperating With FBI On Hilla...  ...                       1323\n",
       "3      PIN DROP SPEECH BY FATHER OF DAUGHTER Kidnappe...  ...                        265\n",
       "4      FANTASTIC! TRUMP'S 7 POINT PLAN To Reform Heal...  ...                       2058\n",
       "...                                                  ...  ...                        ...\n",
       "28660  An eavesdropping Uber driver saved his 16-year...  ...                       4383\n",
       "28661  Plane carrying six people returning from a Cav...  ...                       3372\n",
       "28662  After helping a fraction of homeowners expecte...  ...                       6744\n",
       "28663  Yes, this is real: Michigan just banned bannin...  ...                       4035\n",
       "28664  What happened in Washington state after voters...  ...                       4745\n",
       "\n",
       "[28665 rows x 10 columns]"
      ]
     },
     "execution_count": 68,
     "metadata": {
      "tags": []
     },
     "output_type": "execute_result"
    }
   ],
   "source": [
    "all_news"
   ]
  },
  {
   "cell_type": "markdown",
   "metadata": {
    "id": "_WBMudjMQWhB"
   },
   "source": [
    "# Write cleaned, merged real and fake news to file\n",
    "\n"
   ]
  },
  {
   "cell_type": "code",
   "execution_count": null,
   "metadata": {
    "id": "Oiw3WZSeKOqw"
   },
   "outputs": [],
   "source": [
    "# Write merged real, fake news to csv\n",
    "all_news.to_csv(r'/content/drive/My Drive/255/datasets/all_news_preprocessed.csv', index = False, header=True)"
   ]
  }
 ],
 "metadata": {
  "colab": {
   "collapsed_sections": [],
   "name": "255_data_preprocessing.ipynb",
   "provenance": [],
   "toc_visible": true
  },
  "kernelspec": {
   "display_name": "Python 3",
   "language": "python",
   "name": "python3"
  },
  "language_info": {
   "codemirror_mode": {
    "name": "ipython",
    "version": 3
   },
   "file_extension": ".py",
   "mimetype": "text/x-python",
   "name": "python",
   "nbconvert_exporter": "python",
   "pygments_lexer": "ipython3",
   "version": "3.7.6"
  }
 },
 "nbformat": 4,
 "nbformat_minor": 1
}
